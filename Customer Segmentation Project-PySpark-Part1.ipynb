{
 "cells": [
  {
   "cell_type": "markdown",
   "metadata": {
    "application/vnd.databricks.v1+cell": {
     "cellMetadata": {
      "byteLimit": 2048000,
      "rowLimit": 10000
     },
     "inputWidgets": {},
     "nuid": "c1fc26c2-2338-4fb0-bd5f-ef6ded1aba37",
     "showTitle": false,
     "title": ""
    }
   },
   "source": [
    "# Customer Segmentation for a Retail Chain - Part-1 - Preprocessing & EDA "
   ]
  },
  {
   "cell_type": "markdown",
   "metadata": {
    "application/vnd.databricks.v1+cell": {
     "cellMetadata": {
      "byteLimit": 2048000,
      "rowLimit": 10000
     },
     "inputWidgets": {},
     "nuid": "fa2a78a8-566e-451a-8aa9-7e446e8587b5",
     "showTitle": false,
     "title": ""
    }
   },
   "source": [
    "### - Team 3: \n",
    "- Sardar Rohan Singh - G01453457\n",
    "- Bhargav Patel - G01448937\n",
    "- Saketh - G01425738\n",
    "- Monisha Jaganathan - G01412067\n",
    "- Sai Saketh - G01444348\n",
    "\n",
    "### -  Professor: Eddy Zhang\n",
    "### -  Course: AIT-614-001 - Big Data Essentials"
   ]
  },
  {
   "cell_type": "code",
   "execution_count": 0,
   "metadata": {
    "application/vnd.databricks.v1+cell": {
     "cellMetadata": {
      "byteLimit": 2048000,
      "rowLimit": 10000
     },
     "inputWidgets": {},
     "nuid": "4e247f62-3118-4aab-afff-fed14b7ade3c",
     "showTitle": false,
     "title": ""
    }
   },
   "outputs": [],
   "source": [
    "# pip install pyspark"
   ]
  },
  {
   "cell_type": "code",
   "execution_count": 0,
   "metadata": {
    "application/vnd.databricks.v1+cell": {
     "cellMetadata": {
      "byteLimit": 2048000,
      "rowLimit": 10000
     },
     "inputWidgets": {},
     "nuid": "2c67ff59-e3dc-445e-9277-07db101fe6b5",
     "showTitle": false,
     "title": ""
    }
   },
   "outputs": [],
   "source": [
    "from pyspark.sql import SparkSession"
   ]
  },
  {
   "cell_type": "code",
   "execution_count": 0,
   "metadata": {
    "application/vnd.databricks.v1+cell": {
     "cellMetadata": {
      "byteLimit": 2048000,
      "rowLimit": 10000
     },
     "inputWidgets": {},
     "nuid": "f09bf58d-e77f-4047-b21b-7456a1509778",
     "showTitle": false,
     "title": ""
    }
   },
   "outputs": [],
   "source": [
    "retailDF = spark.read.format(\"csv\").option(\"header\", \"true\").load(\"dbfs:/FileStore/shared_uploads/rsardar3@gmu.edu/retail_chain.csv\")"
   ]
  },
  {
   "cell_type": "code",
   "execution_count": 0,
   "metadata": {
    "application/vnd.databricks.v1+cell": {
     "cellMetadata": {
      "byteLimit": 2048000,
      "rowLimit": 10000
     },
     "inputWidgets": {},
     "nuid": "51f186eb-12dd-46bc-b320-a171daae5e26",
     "showTitle": false,
     "title": ""
    }
   },
   "outputs": [],
   "source": [
    "retailDF.printSchema()"
   ]
  },
  {
   "cell_type": "code",
   "execution_count": 0,
   "metadata": {
    "application/vnd.databricks.v1+cell": {
     "cellMetadata": {
      "byteLimit": 2048000,
      "rowLimit": 10000
     },
     "inputWidgets": {},
     "nuid": "92680284-d2b0-416d-9b8f-d08342ca4cb8",
     "showTitle": false,
     "title": ""
    }
   },
   "outputs": [],
   "source": [
    "retailDF.show(5)"
   ]
  },
  {
   "cell_type": "code",
   "execution_count": 0,
   "metadata": {
    "application/vnd.databricks.v1+cell": {
     "cellMetadata": {
      "byteLimit": 2048000,
      "rowLimit": 10000
     },
     "inputWidgets": {},
     "nuid": "89820a09-7a77-4e19-aa3b-2f4903f9b505",
     "showTitle": false,
     "title": ""
    }
   },
   "outputs": [],
   "source": [
    "retailDF.columns"
   ]
  },
  {
   "cell_type": "code",
   "execution_count": 0,
   "metadata": {
    "application/vnd.databricks.v1+cell": {
     "cellMetadata": {
      "byteLimit": 2048000,
      "rowLimit": 10000
     },
     "inputWidgets": {},
     "nuid": "1190fc22-ea41-4a8e-bdf8-8d4477e7b88a",
     "showTitle": false,
     "title": ""
    }
   },
   "outputs": [],
   "source": [
    "# Initialize SparkSession\n",
    "spark = SparkSession.builder \\\n",
    "    .appName(\"Example\") \\\n",
    "    .getOrCreate()\n",
    "\n",
    "# To get the number of rows\n",
    "num_rows = retailDF.count()\n",
    "\n",
    "# To get the number of variables (columns)\n",
    "num_variables = len(retailDF.columns)\n",
    "\n",
    "print(\"Number of rows:\", num_rows)\n",
    "print(\"Number of variables:\", num_variables)"
   ]
  },
  {
   "cell_type": "code",
   "execution_count": 0,
   "metadata": {
    "application/vnd.databricks.v1+cell": {
     "cellMetadata": {
      "byteLimit": 2048000,
      "rowLimit": 10000
     },
     "inputWidgets": {},
     "nuid": "2f5db9b3-c8d1-4158-946b-8cec93a0a7cb",
     "showTitle": false,
     "title": ""
    }
   },
   "outputs": [],
   "source": [
    "# Copy the Dataframe in case we mess up something\n",
    "df = retailDF.select(*retailDF.columns)"
   ]
  },
  {
   "cell_type": "code",
   "execution_count": 0,
   "metadata": {
    "application/vnd.databricks.v1+cell": {
     "cellMetadata": {
      "byteLimit": 2048000,
      "rowLimit": 10000
     },
     "inputWidgets": {},
     "nuid": "ca943269-9e81-4b2f-8e6b-74299e5dcb1e",
     "showTitle": false,
     "title": ""
    }
   },
   "outputs": [],
   "source": [
    "df.printSchema()"
   ]
  },
  {
   "cell_type": "code",
   "execution_count": 0,
   "metadata": {
    "application/vnd.databricks.v1+cell": {
     "cellMetadata": {
      "byteLimit": 2048000,
      "rowLimit": 10000
     },
     "inputWidgets": {},
     "nuid": "4b9a02db-835d-4b0a-8833-86e5371e7fea",
     "showTitle": false,
     "title": ""
    }
   },
   "outputs": [],
   "source": [
    "# Drop Duplicated rows of data from the DataFrame, It happened because of Human Error..!! :-p\n",
    "print(\"*\"*75)\n",
    "print(\"Length of DataFrame with duplicate values : \", df.count())\n",
    "df = df.dropDuplicates(subset=df.columns)\n",
    "print(\"*\"*75)\n",
    "print(\"Length of DataFrame after dropping all the duplicate values : \", df.count())\n",
    "print(\"*\"*75)"
   ]
  },
  {
   "cell_type": "code",
   "execution_count": 0,
   "metadata": {
    "application/vnd.databricks.v1+cell": {
     "cellMetadata": {
      "byteLimit": 2048000,
      "rowLimit": 10000
     },
     "inputWidgets": {},
     "nuid": "68ef153c-7063-4462-b4fe-c0bfdb8478d0",
     "showTitle": false,
     "title": ""
    }
   },
   "outputs": [],
   "source": [
    "from pyspark.sql.functions import col, count, when\n",
    "import pandas as pd\n",
    "\n",
    "def mdF(df):\n",
    "    total_rows = df.count()\n",
    "    total_no = df.select([count(when(col(c).isNull(), c)).alias(c) for c in df.columns]).collect()[0].asDict()\n",
    "    missing_percentage = {col: (val / total_rows) * 100 for col, val in total_no.items()}\n",
    "    mdF = pd.DataFrame({\"Missing_Values\": total_no, \"Missing_Percentage\": missing_percentage})\n",
    "    return mdF[mdF['Missing_Values'] > 1]\n",
    "\n",
    "mdF(df)\n"
   ]
  },
  {
   "cell_type": "code",
   "execution_count": 0,
   "metadata": {
    "application/vnd.databricks.v1+cell": {
     "cellMetadata": {
      "byteLimit": 2048000,
      "rowLimit": 10000
     },
     "inputWidgets": {},
     "nuid": "3b8041c0-afdc-45c9-a23a-0fa72f2119cf",
     "showTitle": false,
     "title": ""
    }
   },
   "outputs": [],
   "source": [
    "from pyspark.sql.functions import col\n",
    "\n",
    "# Filter the DataFrame to drop rows where both 'CustomerID' and 'Description' are null\n",
    "df = df.filter(~(col('CustomerID').isNull() & col('Description').isNull()))\n"
   ]
  },
  {
   "cell_type": "code",
   "execution_count": 0,
   "metadata": {
    "application/vnd.databricks.v1+cell": {
     "cellMetadata": {
      "byteLimit": 2048000,
      "rowLimit": 10000
     },
     "inputWidgets": {},
     "nuid": "5f95f437-4219-42d4-9a03-c855f20c80ed",
     "showTitle": false,
     "title": ""
    }
   },
   "outputs": [],
   "source": [
    "mdF(df)"
   ]
  },
  {
   "cell_type": "code",
   "execution_count": 0,
   "metadata": {
    "application/vnd.databricks.v1+cell": {
     "cellMetadata": {
      "byteLimit": 2048000,
      "rowLimit": 10000
     },
     "inputWidgets": {},
     "nuid": "8ddd0c4a-2661-4ea8-9cd6-c41534e40f9e",
     "showTitle": false,
     "title": ""
    }
   },
   "outputs": [],
   "source": [
    "# Drop null values in the 'CustomerID' field\n",
    "df = df.na.drop()"
   ]
  },
  {
   "cell_type": "code",
   "execution_count": 0,
   "metadata": {
    "application/vnd.databricks.v1+cell": {
     "cellMetadata": {
      "byteLimit": 2048000,
      "rowLimit": 10000
     },
     "inputWidgets": {},
     "nuid": "54ad82b2-7447-4f4a-a7e6-c0e721b39223",
     "showTitle": false,
     "title": ""
    }
   },
   "outputs": [],
   "source": [
    "# df.printSchema()"
   ]
  },
  {
   "cell_type": "code",
   "execution_count": 0,
   "metadata": {
    "application/vnd.databricks.v1+cell": {
     "cellMetadata": {
      "byteLimit": 2048000,
      "rowLimit": 10000
     },
     "inputWidgets": {},
     "nuid": "36f328ad-6a94-49fc-bedf-c6b578c9dec0",
     "showTitle": false,
     "title": ""
    }
   },
   "outputs": [],
   "source": [
    "# df.count()"
   ]
  },
  {
   "cell_type": "code",
   "execution_count": 0,
   "metadata": {
    "application/vnd.databricks.v1+cell": {
     "cellMetadata": {
      "byteLimit": 2048000,
      "rowLimit": 10000
     },
     "inputWidgets": {},
     "nuid": "76ecf1e0-b8b1-4e50-beb2-2d1a1c04a2e4",
     "showTitle": false,
     "title": ""
    }
   },
   "outputs": [],
   "source": [
    "# Import necessary libraries\n",
    "from pyspark.sql.functions import col\n",
    "import seaborn as sns\n",
    "import matplotlib.pyplot as plt\n",
    "\n",
    "# Filter out null values in Quantity and UnitPrice columns\n",
    "filtered_df = df.filter(~col(\"Quantity\").isNull() & ~col(\"UnitPrice\").isNull())\n",
    "\n",
    "# Convert Spark DataFrame to Pandas DataFrame\n",
    "pandas_df = filtered_df.toPandas()"
   ]
  },
  {
   "cell_type": "code",
   "execution_count": 0,
   "metadata": {
    "application/vnd.databricks.v1+cell": {
     "cellMetadata": {
      "byteLimit": 2048000,
      "rowLimit": 10000
     },
     "inputWidgets": {},
     "nuid": "7be30789-2627-4db4-bcc5-6347b3210e8c",
     "showTitle": false,
     "title": ""
    }
   },
   "outputs": [],
   "source": [
    "# Convert 'Quantity' column to numeric type, coercing errors to NaN\n",
    "pandas_df['Quantity_numeric'] = pd.to_numeric(pandas_df['Quantity'], errors='coerce')\n",
    "\n",
    "# Check for NaN values in the 'Quantity_numeric' column\n",
    "non_numeric_values = pandas_df[pandas_df['Quantity_numeric'].isnull()]\n",
    "\n",
    "# Display non-numeric values\n",
    "if len(non_numeric_values) > 0:\n",
    "    print(\"Non-numeric values found in the 'Quantity' column:\")\n",
    "    print(non_numeric_values)\n",
    "else:\n",
    "    print(\"No non-numeric values found in the 'Quantity' column.\")"
   ]
  },
  {
   "cell_type": "code",
   "execution_count": 0,
   "metadata": {
    "application/vnd.databricks.v1+cell": {
     "cellMetadata": {
      "byteLimit": 2048000,
      "rowLimit": 10000
     },
     "inputWidgets": {},
     "nuid": "763cdd2e-0e01-4999-aa0f-c74349355871",
     "showTitle": false,
     "title": ""
    }
   },
   "outputs": [],
   "source": [
    "import plotly.express as px\n",
    "\n",
    "# Create box plots for Quantity and UnitPrice using Plotly Express\n",
    "fig = px.box(pandas_df, y=\"Quantity\", title=\"Distribution of Quantity\")\n",
    "fig.update_layout(height=400, width=600, yaxis_title=\"Quantity\")\n",
    "\n",
    "fig.show()"
   ]
  },
  {
   "cell_type": "code",
   "execution_count": 0,
   "metadata": {
    "application/vnd.databricks.v1+cell": {
     "cellMetadata": {
      "byteLimit": 2048000,
      "rowLimit": 10000
     },
     "inputWidgets": {},
     "nuid": "f151ef4b-ed32-453e-bf7b-15caa4c77e4a",
     "showTitle": false,
     "title": ""
    }
   },
   "outputs": [],
   "source": [
    "fig = px.box(pandas_df, y=\"UnitPrice\", title=\"Distribution of Unit Price\")\n",
    "fig.update_layout(height=400, width=600, yaxis_title=\"Unit Price\")\n",
    "\n",
    "fig.show()"
   ]
  },
  {
   "cell_type": "code",
   "execution_count": 0,
   "metadata": {
    "application/vnd.databricks.v1+cell": {
     "cellMetadata": {
      "byteLimit": 2048000,
      "rowLimit": 10000
     },
     "inputWidgets": {},
     "nuid": "c9e569e3-76d4-4e49-8e13-2ab5c09bb46f",
     "showTitle": false,
     "title": ""
    }
   },
   "outputs": [],
   "source": [
    "# Filter out rows where Quantity and UnitPrice are positive\n",
    "filtered_df = df.filter((col(\"Quantity\") > 0) & (col(\"UnitPrice\") > 0))\n",
    "\n",
    "# Count the length of the filtered DataFrame\n",
    "filtered_length = filtered_df.count()\n",
    "print(\"Length of DataFrame is:\", filtered_length)"
   ]
  },
  {
   "cell_type": "code",
   "execution_count": 0,
   "metadata": {
    "application/vnd.databricks.v1+cell": {
     "cellMetadata": {
      "byteLimit": 2048000,
      "rowLimit": 10000
     },
     "inputWidgets": {},
     "nuid": "bd18e5f5-b286-4de1-a1c9-5a9bc66da5af",
     "showTitle": false,
     "title": ""
    }
   },
   "outputs": [],
   "source": [
    "# Convert Spark DataFrame to Pandas DataFrame\n",
    "pandas_filtered_df = filtered_df.toPandas()\n",
    "\n",
    "# Create box plots for Quantity and UnitPrice using Plotly Express\n",
    "fig = px.box(pandas_filtered_df, y=\"Quantity\", title=\"Distribution of Quantity\")\n",
    "fig.update_layout(height=400, width=600, yaxis_title=\"Quantity\")\n",
    "\n",
    "fig.show()"
   ]
  },
  {
   "cell_type": "code",
   "execution_count": 0,
   "metadata": {
    "application/vnd.databricks.v1+cell": {
     "cellMetadata": {
      "byteLimit": 2048000,
      "rowLimit": 10000
     },
     "inputWidgets": {},
     "nuid": "c98712e0-170b-44cb-9fb3-b2f0a1ebd22c",
     "showTitle": false,
     "title": ""
    }
   },
   "outputs": [],
   "source": [
    "fig = px.box(pandas_filtered_df, y=\"UnitPrice\", title=\"Distribution of Unit Price\")\n",
    "fig.update_layout(height=400, width=600, yaxis_title=\"Unit Price\")\n",
    "\n",
    "fig.show()"
   ]
  },
  {
   "cell_type": "code",
   "execution_count": 0,
   "metadata": {
    "application/vnd.databricks.v1+cell": {
     "cellMetadata": {
      "byteLimit": 2048000,
      "rowLimit": 10000
     },
     "inputWidgets": {},
     "nuid": "61644ebc-93ec-4afb-b2c9-34e43c41a801",
     "showTitle": false,
     "title": ""
    }
   },
   "outputs": [],
   "source": [
    "# Convert the Data Type of CustomerID to Integer using Lambda Function\n",
    "df = df.withColumn(\"CustomerID\", col(\"CustomerID\").cast(\"int\"))"
   ]
  },
  {
   "cell_type": "code",
   "execution_count": 0,
   "metadata": {
    "application/vnd.databricks.v1+cell": {
     "cellMetadata": {
      "byteLimit": 2048000,
      "rowLimit": 10000
     },
     "inputWidgets": {},
     "nuid": "51b8af8a-8187-4bb9-9cf9-b8ece41ca111",
     "showTitle": false,
     "title": ""
    }
   },
   "outputs": [],
   "source": [
    "# Draw a new column with the total price paid by the customer\n",
    "df = df.withColumn(\"Total_Price\", col(\"Quantity\") * col(\"UnitPrice\"))"
   ]
  },
  {
   "cell_type": "code",
   "execution_count": 0,
   "metadata": {
    "application/vnd.databricks.v1+cell": {
     "cellMetadata": {
      "byteLimit": 2048000,
      "rowLimit": 10000
     },
     "inputWidgets": {},
     "nuid": "906c430e-d026-49a3-b6f1-aa9c67fbf64f",
     "showTitle": false,
     "title": ""
    }
   },
   "outputs": [],
   "source": [
    "# df.show(5)"
   ]
  },
  {
   "cell_type": "code",
   "execution_count": 0,
   "metadata": {
    "application/vnd.databricks.v1+cell": {
     "cellMetadata": {
      "byteLimit": 2048000,
      "rowLimit": 10000
     },
     "inputWidgets": {},
     "nuid": "27a08246-ae74-4528-bf91-4e31ee06ebd5",
     "showTitle": false,
     "title": ""
    }
   },
   "outputs": [],
   "source": [
    "from pyspark.sql import functions as F\n",
    "\n",
    "DM_data = df.select('CustomerID', 'Quantity', 'Total_Price', 'InvoiceNo', 'InvoiceDate')\n",
    "\n",
    "# Convert 'InvoiceDate' to datetime\n",
    "DM_data = DM_data.withColumn('InvoiceDate', F.to_timestamp('InvoiceDate'))"
   ]
  },
  {
   "cell_type": "code",
   "execution_count": 0,
   "metadata": {
    "application/vnd.databricks.v1+cell": {
     "cellMetadata": {
      "byteLimit": 2048000,
      "rowLimit": 10000
     },
     "inputWidgets": {},
     "nuid": "29de12b7-ea66-492a-9df5-deb6c59ecfd3",
     "showTitle": false,
     "title": ""
    }
   },
   "outputs": [],
   "source": [
    "# Ensure 'InvoiceDate' is a timestamp\n",
    "df = df.withColumn('InvoiceDate', F.to_timestamp('InvoiceDate'))\n",
    "\n",
    "# Extracting date parts\n",
    "df = df.withColumn('Year', F.year('InvoiceDate'))\n",
    "df = df.withColumn('Month', F.month('InvoiceDate'))\n",
    "df = df.withColumn('WeekDay', F.dayofweek('InvoiceDate'))  # Starts at 1 (Sunday) to 7 (Saturday)\n",
    "df = df.withColumn('TimePeriod', F.hour('InvoiceDate'))\n",
    "\n",
    "# Mapping for Month and WeekDay\n",
    "monthDict = {\n",
    "    1: 'January', 2: 'February', 3: 'March', 4: 'April', 5: 'May', 6: 'June',\n",
    "    7: 'July', 8: 'August', 9: 'September', 10: 'October', 11: 'November', 12: 'December'\n",
    "}\n",
    "weekdayDict = {\n",
    "    1: 'Sunday', 2: 'Monday', 3: 'Tuesday', 4: 'Wednesday', 5: 'Thursday', 6: 'Friday', 7: 'Saturday'\n",
    "}\n"
   ]
  },
  {
   "cell_type": "code",
   "execution_count": 0,
   "metadata": {
    "application/vnd.databricks.v1+cell": {
     "cellMetadata": {
      "byteLimit": 2048000,
      "rowLimit": 10000
     },
     "inputWidgets": {},
     "nuid": "6e87f859-61ca-456d-b8b5-7c7ea434b096",
     "showTitle": false,
     "title": ""
    }
   },
   "outputs": [],
   "source": [
    "# Creating mapping expressions\n",
    "month_mapping_expr = F.create_map([F.lit(x) for x in sum(monthDict.items(), ())])\n",
    "weekday_mapping_expr = F.create_map([F.lit(x) for x in sum(weekdayDict.items(), ())])\n",
    "\n",
    "# Applying mappings\n",
    "df = df.withColumn('Month', month_mapping_expr[df['Month']])\n",
    "df = df.withColumn('WeekDay', weekday_mapping_expr[df['WeekDay']])"
   ]
  },
  {
   "cell_type": "code",
   "execution_count": 0,
   "metadata": {
    "application/vnd.databricks.v1+cell": {
     "cellMetadata": {
      "byteLimit": 2048000,
      "rowLimit": 10000
     },
     "inputWidgets": {},
     "nuid": "1abf3e42-b19e-48fc-bc27-1418b4550bff",
     "showTitle": false,
     "title": ""
    }
   },
   "outputs": [],
   "source": [
    "# Define and apply the Period categorization\n",
    "df = df.withColumn(\n",
    "    'TimePeriod',\n",
    "    F.when((F.col('TimePeriod') >= 6) & (F.col('TimePeriod') < 12), 'Morning')\n",
    "     .when((F.col('TimePeriod') >= 12) & (F.col('TimePeriod') < 16), 'Afternoon')\n",
    "     .when((F.col('TimePeriod') >= 16) & (F.col('TimePeriod') <= 20), 'Evening')\n",
    "     .otherwise('Night')\n",
    ")\n",
    "\n",
    "# Now df includes all transformed and categorized data"
   ]
  },
  {
   "cell_type": "code",
   "execution_count": 0,
   "metadata": {
    "application/vnd.databricks.v1+cell": {
     "cellMetadata": {
      "byteLimit": 2048000,
      "rowLimit": 10000
     },
     "inputWidgets": {},
     "nuid": "ff82ceb8-7c65-4bb2-b87f-3951787c6bb0",
     "showTitle": false,
     "title": ""
    }
   },
   "outputs": [],
   "source": [
    "df = df.select(\n",
    "    \"InvoiceNo\", \"StockCode\", \"Description\", \"Quantity\", \"InvoiceDate\", \"UnitPrice\", \n",
    "    \"CustomerID\", \"Country\", \"Region\", \"Reviews\", \"Total_Price\", \n",
    "    \"Year\", \"Month\", \"WeekDay\", \"TimePeriod\"\n",
    ")\n",
    "\n",
    "# Show the DataFrame to verify the structure\n",
    "# df.show(truncate=False)\n"
   ]
  },
  {
   "cell_type": "code",
   "execution_count": 0,
   "metadata": {
    "application/vnd.databricks.v1+cell": {
     "cellMetadata": {
      "byteLimit": 2048000,
      "rowLimit": 10000
     },
     "inputWidgets": {},
     "nuid": "a3bfa72c-2d84-4ea4-9db7-316135088c1f",
     "showTitle": false,
     "title": ""
    }
   },
   "outputs": [],
   "source": [
    "df = df.drop('InvoiceDate')"
   ]
  },
  {
   "cell_type": "code",
   "execution_count": 0,
   "metadata": {
    "application/vnd.databricks.v1+cell": {
     "cellMetadata": {
      "byteLimit": 2048000,
      "rowLimit": 10000
     },
     "inputWidgets": {},
     "nuid": "bc68031d-d258-47b1-ab45-36b33afa75b3",
     "showTitle": false,
     "title": ""
    }
   },
   "outputs": [],
   "source": [
    "df = df[['CustomerID', 'InvoiceNo', 'Year', 'Month', 'WeekDay','TimePeriod',\n",
    "         'StockCode', 'Country', 'Description', 'Quantity', 'UnitPrice', 'Total_Price', 'Reviews']]"
   ]
  },
  {
   "cell_type": "code",
   "execution_count": 0,
   "metadata": {
    "application/vnd.databricks.v1+cell": {
     "cellMetadata": {
      "byteLimit": 2048000,
      "rowLimit": 10000
     },
     "inputWidgets": {},
     "nuid": "887232f1-76e2-405a-809c-c0f0b73456b7",
     "showTitle": false,
     "title": ""
    }
   },
   "outputs": [],
   "source": [
    "# Save the Dataframe into another CSV for safety\n",
    "# df.write.csv(\"CustomersDF.csv\", header=True, mode=\"overwrite\")\n"
   ]
  },
  {
   "cell_type": "markdown",
   "metadata": {
    "application/vnd.databricks.v1+cell": {
     "cellMetadata": {
      "byteLimit": 2048000,
      "rowLimit": 10000
     },
     "inputWidgets": {},
     "nuid": "814b0f25-3a65-4f73-88a2-61d0d2b6d63c",
     "showTitle": false,
     "title": ""
    }
   },
   "source": [
    "Exploratory Data Analysis"
   ]
  },
  {
   "cell_type": "code",
   "execution_count": 0,
   "metadata": {
    "application/vnd.databricks.v1+cell": {
     "cellMetadata": {
      "byteLimit": 2048000,
      "rowLimit": 10000
     },
     "inputWidgets": {},
     "nuid": "48ee58e8-1f4d-406f-abe1-410a6be88537",
     "showTitle": false,
     "title": ""
    }
   },
   "outputs": [],
   "source": [
    "customerDF = df"
   ]
  },
  {
   "cell_type": "code",
   "execution_count": 0,
   "metadata": {
    "application/vnd.databricks.v1+cell": {
     "cellMetadata": {
      "byteLimit": 2048000,
      "rowLimit": 10000
     },
     "inputWidgets": {},
     "nuid": "3374e065-a971-441e-b783-24eb955615c5",
     "showTitle": false,
     "title": ""
    }
   },
   "outputs": [],
   "source": [
    "customerDF.show(3)"
   ]
  },
  {
   "cell_type": "code",
   "execution_count": 0,
   "metadata": {
    "application/vnd.databricks.v1+cell": {
     "cellMetadata": {
      "byteLimit": 2048000,
      "rowLimit": 10000
     },
     "inputWidgets": {},
     "nuid": "1452e2bc-479b-45e0-849e-5437711ab23a",
     "showTitle": false,
     "title": ""
    }
   },
   "outputs": [],
   "source": [
    "# customerDF.printSchema()"
   ]
  },
  {
   "cell_type": "markdown",
   "metadata": {
    "application/vnd.databricks.v1+cell": {
     "cellMetadata": {
      "byteLimit": 2048000,
      "rowLimit": 10000
     },
     "inputWidgets": {},
     "nuid": "9f7e234a-0410-4d8a-a397-55bc3c157c31",
     "showTitle": false,
     "title": ""
    }
   },
   "source": [
    "# 01 - Best Customers\n",
    "\n",
    "- Best Customers are who have paid more to the company/service and continuously purchasing the products."
   ]
  },
  {
   "cell_type": "markdown",
   "metadata": {
    "application/vnd.databricks.v1+cell": {
     "cellMetadata": {
      "byteLimit": 2048000,
      "rowLimit": 10000
     },
     "inputWidgets": {},
     "nuid": "1d26c670-eddb-4e50-ab54-6fe438e7a8a5",
     "showTitle": false,
     "title": ""
    }
   },
   "source": [
    "Top 30 Customers of our Retail Chain are"
   ]
  },
  {
   "cell_type": "code",
   "execution_count": 0,
   "metadata": {
    "application/vnd.databricks.v1+cell": {
     "cellMetadata": {
      "byteLimit": 2048000,
      "rowLimit": 10000
     },
     "inputWidgets": {},
     "nuid": "71380082-ff36-4817-90f6-cb3e7855b151",
     "showTitle": false,
     "title": ""
    }
   },
   "outputs": [],
   "source": [
    "best_customers = customerDF.groupBy(\"CustomerID\") \\\n",
    "                           .agg(F.round(F.sum(\"Total_Price\"), 2).alias(\"Total_Spent\")) \\\n",
    "                           .orderBy(F.col(\"Total_Spent\").desc()) \\\n",
    "                           .limit(30)\n",
    "best_customers.show(5)"
   ]
  },
  {
   "cell_type": "code",
   "execution_count": 0,
   "metadata": {
    "application/vnd.databricks.v1+cell": {
     "cellMetadata": {
      "byteLimit": 2048000,
      "rowLimit": 10000
     },
     "inputWidgets": {},
     "nuid": "9136fbcc-8f51-4b88-88d6-7fd727ace782",
     "showTitle": false,
     "title": ""
    }
   },
   "outputs": [],
   "source": [
    "# Import necessary libraries\n",
    "\n",
    "# Group by CustomerID and sum the Total_Price, then sort in descending order and take the top 30\n",
    "best_customers = customerDF.groupBy('CustomerID').sum('Total_Price') \\\n",
    "                           .orderBy('sum(Total_Price)', ascending=False) \\\n",
    "                           .limit(30)\n",
    "\n",
    "# Convert Spark DataFrame to Pandas DataFrame for plotting\n",
    "best_customers_pd = best_customers.toPandas()"
   ]
  },
  {
   "cell_type": "code",
   "execution_count": 0,
   "metadata": {
    "application/vnd.databricks.v1+cell": {
     "cellMetadata": {
      "byteLimit": 2048000,
      "rowLimit": 10000
     },
     "inputWidgets": {},
     "nuid": "fda21f8b-cc30-40b4-a2ca-5f4744e16d80",
     "showTitle": false,
     "title": ""
    }
   },
   "outputs": [],
   "source": [
    "# Plot the graph using Seaborn\n",
    "plt.figure(figsize=(16, 6))\n",
    "plt.xticks(rotation=90)\n",
    "plt.title(\"Best Customers\", fontsize=20)\n",
    "sns.barplot(x='CustomerID', y='sum(Total_Price)', data=best_customers_pd)\n",
    "\n",
    "# Show the plot\n",
    "plt.show()"
   ]
  },
  {
   "cell_type": "markdown",
   "metadata": {
    "application/vnd.databricks.v1+cell": {
     "cellMetadata": {
      "byteLimit": 2048000,
      "rowLimit": 10000
     },
     "inputWidgets": {},
     "nuid": "7c517e46-e872-477b-a205-b8e6135c6d95",
     "showTitle": false,
     "title": ""
    }
   },
   "source": [
    "# 02 - Worst Customers\n",
    "\n",
    "- Every Customer is a Good Customer, the worst could be measured in terms of loyalty.\n",
    "\n",
    "- Every penny recieved from the customer is an achievement and the hardwork of the company."
   ]
  },
  {
   "cell_type": "markdown",
   "metadata": {
    "application/vnd.databricks.v1+cell": {
     "cellMetadata": {
      "byteLimit": 2048000,
      "rowLimit": 10000
     },
     "inputWidgets": {},
     "nuid": "e0f4e5c8-3729-471b-8663-a984777d1d83",
     "showTitle": false,
     "title": ""
    }
   },
   "source": [
    "# 03 - Periodical Purchasing Stats"
   ]
  },
  {
   "cell_type": "code",
   "execution_count": 0,
   "metadata": {
    "application/vnd.databricks.v1+cell": {
     "cellMetadata": {
      "byteLimit": 2048000,
      "rowLimit": 10000
     },
     "inputWidgets": {},
     "nuid": "9f46458f-86f2-44c1-8d7c-0f8af6e55d2d",
     "showTitle": false,
     "title": ""
    }
   },
   "outputs": [],
   "source": [
    "import pandas as pd\n",
    "\n",
    "# Convert PySpark DataFrame to Pandas DataFrame\n",
    "customer_df_pd = customerDF.toPandas()\n",
    "\n",
    "plt.figure(figsize=(16, 12))\n",
    "plt.subplots_adjust(hspace=0.5)\n",
    "\n",
    "# Plot for Year\n",
    "plt.subplot(221)\n",
    "sns.countplot(data=customer_df_pd, x='Year', palette='Set2')\n",
    "plt.title('Number of Transactions by Year')\n",
    "plt.xlabel('Year')\n",
    "plt.ylabel('Count')\n",
    "for i, count in enumerate(customer_df_pd['Year'].value_counts()):\n",
    "    plt.text(i, count, str(count), ha='center', va='bottom')\n",
    "\n",
    "# Plot for Month with hue Year\n",
    "plt.subplot(222)\n",
    "plt.xticks(rotation=90)\n",
    "sns.countplot(data=customer_df_pd, x='Month', order=customer_df_pd['Month'].value_counts().index, hue='Year', palette='Set2')\n",
    "plt.title('Number of Transactions by Month')\n",
    "plt.xlabel('Month')\n",
    "plt.ylabel('Count')\n",
    "plt.legend(title='Year')\n",
    "for i, count in enumerate(customer_df_pd['Month'].value_counts()):\n",
    "    plt.text(i, count, str(count), ha='center', va='bottom')\n",
    "\n",
    "# Plot for WeekDay\n",
    "plt.subplot(223)\n",
    "sns.countplot(data=customer_df_pd, x='WeekDay', order=customer_df_pd['WeekDay'].value_counts().index, palette='Set2')\n",
    "plt.title('Number of Transactions by Weekday')\n",
    "plt.xlabel('Weekday')\n",
    "plt.ylabel('Count')\n",
    "for i, count in enumerate(customer_df_pd['WeekDay'].value_counts()):\n",
    "    plt.text(i, count, str(count), ha='center', va='bottom')\n",
    "\n",
    "# Plot for TimePeriod\n",
    "plt.subplot(224)\n",
    "sns.countplot(data=customer_df_pd, x='TimePeriod', order=customer_df_pd['TimePeriod'].value_counts().index, palette='Set2')\n",
    "plt.title('Number of Transactions by Time Period')\n",
    "plt.xlabel('Time Period')\n",
    "plt.ylabel('Count')\n",
    "for i, count in enumerate(customer_df_pd['TimePeriod'].value_counts()):\n",
    "    plt.text(i, count, str(count), ha='center', va='bottom')\n",
    "\n",
    "plt.tight_layout()\n",
    "plt.show()"
   ]
  },
  {
   "cell_type": "markdown",
   "metadata": {
    "application/vnd.databricks.v1+cell": {
     "cellMetadata": {
      "byteLimit": 2048000,
      "rowLimit": 10000
     },
     "inputWidgets": {},
     "nuid": "07b1518a-097d-40dd-8927-51c1637667c9",
     "showTitle": false,
     "title": ""
    }
   },
   "source": [
    "#### Insights from the Periodical Plots\n",
    "- Sales are very high in October, November & December\n",
    "- We have only December sales data from 2010\n",
    "- The Retail Store is Closed on Saturday as per the Information available\n",
    "- More number of sales are happening during Middle of the week(Tuesday, Wednesday and Thursday in ascending order respectively)\n",
    "- People are usually visiting the store during the afternoon hours when compared to Mornng & Evening Times\n",
    "- The total no of sales in December 2010 is higher then December 2011\n",
    "- Management has to concentrate on the decrease of sales in December"
   ]
  },
  {
   "cell_type": "markdown",
   "metadata": {
    "application/vnd.databricks.v1+cell": {
     "cellMetadata": {
      "byteLimit": 2048000,
      "rowLimit": 10000
     },
     "inputWidgets": {},
     "nuid": "12a93b7e-173f-4310-a532-804f13c33c65",
     "showTitle": false,
     "title": ""
    }
   },
   "source": [
    "# 04 Most Revenue Generated WeekDay"
   ]
  },
  {
   "cell_type": "code",
   "execution_count": 0,
   "metadata": {
    "application/vnd.databricks.v1+cell": {
     "cellMetadata": {
      "byteLimit": 2048000,
      "rowLimit": 10000
     },
     "inputWidgets": {},
     "nuid": "60fe41b6-b784-4c65-88f0-d769756d9a13",
     "showTitle": false,
     "title": ""
    }
   },
   "outputs": [],
   "source": [
    "weekly_sales = customerDF.groupBy(\"WeekDay\") \\\n",
    "                         .agg(F.round(F.sum(\"Total_Price\"), 2).alias(\"Total_Sales\")) \\\n",
    "                         .orderBy(F.col(\"Total_Sales\").desc())\n",
    "weekly_sales.show()"
   ]
  },
  {
   "cell_type": "code",
   "execution_count": 0,
   "metadata": {
    "application/vnd.databricks.v1+cell": {
     "cellMetadata": {
      "byteLimit": 2048000,
      "rowLimit": 10000
     },
     "inputWidgets": {},
     "nuid": "6248817e-ccef-4390-af4c-d20b7d10fc63",
     "showTitle": false,
     "title": ""
    }
   },
   "outputs": [],
   "source": [
    "import matplotlib.ticker as ticker\n",
    "\n",
    "# Convert Spark DataFrame to Pandas DataFrame\n",
    "weekly_sales_pandas = weekly_sales.toPandas()\n",
    "\n",
    "plt.figure(figsize=(10, 6))\n",
    "\n",
    "# Create the bar plot\n",
    "sns.barplot(x=\"WeekDay\", y=\"Total_Sales\", data=weekly_sales_pandas, order=weekly_sales_pandas[\"WeekDay\"], palette='viridis')\n",
    "\n",
    "# Add title and labels\n",
    "plt.title('Weekly Sales')\n",
    "plt.xlabel('Weekday')\n",
    "plt.ylabel('Total Sales')\n",
    "\n",
    "# Add data labels on top of the bars\n",
    "for i, value in enumerate(weekly_sales_pandas[\"Total_Sales\"]):\n",
    "    plt.text(i, value, f'{value:.2f}', ha='center', va='bottom')\n",
    "\n",
    "# Format y-axis tick labels in thousands [K]\n",
    "plt.gca().yaxis.set_major_formatter(ticker.FuncFormatter(lambda x, _: '{:.0f}K'.format(x / 1000)))\n",
    "\n",
    "# Show plot\n",
    "plt.xticks(rotation=45)\n",
    "plt.tight_layout()\n",
    "plt.show()"
   ]
  },
  {
   "cell_type": "markdown",
   "metadata": {
    "application/vnd.databricks.v1+cell": {
     "cellMetadata": {
      "byteLimit": 2048000,
      "rowLimit": 10000
     },
     "inputWidgets": {},
     "nuid": "e702331c-38b5-4c44-a1a2-2a3dd8078137",
     "showTitle": false,
     "title": ""
    }
   },
   "source": [
    "- On Thursday Company is generating the highest Revenue\n",
    "- On Sunday company is generating less revenue"
   ]
  },
  {
   "cell_type": "markdown",
   "metadata": {
    "application/vnd.databricks.v1+cell": {
     "cellMetadata": {
      "byteLimit": 2048000,
      "rowLimit": 10000
     },
     "inputWidgets": {},
     "nuid": "9ad69410-8408-45a0-b092-b9bf6868eb8c",
     "showTitle": false,
     "title": ""
    }
   },
   "source": [
    "# 05 Regional Purchase Information"
   ]
  },
  {
   "cell_type": "code",
   "execution_count": 0,
   "metadata": {
    "application/vnd.databricks.v1+cell": {
     "cellMetadata": {
      "byteLimit": 2048000,
      "rowLimit": 10000
     },
     "inputWidgets": {},
     "nuid": "551492c3-a17e-4809-a202-eaa952bf6e8a",
     "showTitle": false,
     "title": ""
    }
   },
   "outputs": [],
   "source": [
    "country_sales = customerDF.groupBy(\"Country\") \\\n",
    "                          .agg(F.round(F.sum(\"Total_Price\"), 2).alias(\"Total_Sales\")) \\\n",
    "                          .orderBy(F.col(\"Total_Sales\").desc())\n",
    "\n",
    "# Show the results\n",
    "country_sales.show(10)"
   ]
  },
  {
   "cell_type": "code",
   "execution_count": 0,
   "metadata": {
    "application/vnd.databricks.v1+cell": {
     "cellMetadata": {
      "byteLimit": 2048000,
      "rowLimit": 10000
     },
     "inputWidgets": {},
     "nuid": "db6da3f0-a370-4ced-81fb-46d6c42fd5f0",
     "showTitle": false,
     "title": ""
    }
   },
   "outputs": [],
   "source": [
    "# Convert Spark DataFrame to Pandas DataFrame\n",
    "country_sales_pandas = country_sales.toPandas()\n",
    "\n",
    "# Select the top 10 countries by total sales\n",
    "top_countries = country_sales_pandas.head(10)\n",
    "\n",
    "# Plot the bar chart\n",
    "plt.figure(figsize=(12, 8))\n",
    "sns.barplot(x=\"Total_Sales\", y=\"Country\", data=top_countries, palette=\"viridis\")\n",
    "\n",
    "# Add labels and title\n",
    "plt.title('Top 10 Countries by Total Sales')\n",
    "plt.xlabel('Total Sales')\n",
    "plt.ylabel('Country')\n",
    "\n",
    "# Add data labels on top of the bars\n",
    "for i, sales in enumerate(top_countries[\"Total_Sales\"]):\n",
    "    plt.text(sales, i, f'{sales:.2f}', va='center')\n",
    "\n",
    "# Show the plot\n",
    "plt.tight_layout()\n",
    "plt.show()"
   ]
  },
  {
   "cell_type": "markdown",
   "metadata": {
    "application/vnd.databricks.v1+cell": {
     "cellMetadata": {
      "byteLimit": 2048000,
      "rowLimit": 10000
     },
     "inputWidgets": {},
     "nuid": "46d65cdc-aade-4b02-84b6-9ca42fbbdc95",
     "showTitle": false,
     "title": ""
    }
   },
   "source": [
    "## 5.1 Top Purchasing Countries"
   ]
  },
  {
   "cell_type": "code",
   "execution_count": 0,
   "metadata": {
    "application/vnd.databricks.v1+cell": {
     "cellMetadata": {
      "byteLimit": 2048000,
      "rowLimit": 10000
     },
     "inputWidgets": {},
     "nuid": "1d615ff9-6f38-4cd5-b369-9d505b2e53a3",
     "showTitle": false,
     "title": ""
    }
   },
   "outputs": [],
   "source": [
    "top_purchasing_countries = country_sales.orderBy(F.col(\"Total_Sales\").desc()).limit(10)\n",
    "top_purchasing_countries.show()"
   ]
  },
  {
   "cell_type": "markdown",
   "metadata": {
    "application/vnd.databricks.v1+cell": {
     "cellMetadata": {
      "byteLimit": 2048000,
      "rowLimit": 10000
     },
     "inputWidgets": {},
     "nuid": "4ba62ff8-4b4f-4f92-b732-20d7ebb38d2e",
     "showTitle": false,
     "title": ""
    }
   },
   "source": [
    "## 5.2 Lease Purchasing Countries"
   ]
  },
  {
   "cell_type": "code",
   "execution_count": 0,
   "metadata": {
    "application/vnd.databricks.v1+cell": {
     "cellMetadata": {
      "byteLimit": 2048000,
      "rowLimit": 10000
     },
     "inputWidgets": {},
     "nuid": "e30a7ca8-3fb4-4959-bc1d-c465ac5e0e9f",
     "showTitle": false,
     "title": ""
    }
   },
   "outputs": [],
   "source": [
    "least_purchasing_countries = country_sales.orderBy(F.col(\"Total_Sales\")).limit(10)\n",
    "least_purchasing_countries.show()\n"
   ]
  },
  {
   "cell_type": "markdown",
   "metadata": {
    "application/vnd.databricks.v1+cell": {
     "cellMetadata": {
      "byteLimit": 2048000,
      "rowLimit": 10000
     },
     "inputWidgets": {},
     "nuid": "98568371-5b08-4589-a012-dc317d20e324",
     "showTitle": false,
     "title": ""
    }
   },
   "source": [
    "# 06 - Product Sales Categorization"
   ]
  },
  {
   "cell_type": "code",
   "execution_count": 0,
   "metadata": {
    "application/vnd.databricks.v1+cell": {
     "cellMetadata": {
      "byteLimit": 2048000,
      "rowLimit": 10000
     },
     "inputWidgets": {},
     "nuid": "6d9454e1-c99a-4847-bf51-a4a5e7defe57",
     "showTitle": false,
     "title": ""
    }
   },
   "outputs": [],
   "source": [
    "product_sales = customerDF.groupBy(\"Description\") \\\n",
    "                          .agg(F.sum(\"Quantity\").alias(\"Total_Quantity\")) \\\n",
    "                          .orderBy(F.col(\"Total_Quantity\").desc())\n",
    "product_sales.show(10)"
   ]
  },
  {
   "cell_type": "markdown",
   "metadata": {
    "application/vnd.databricks.v1+cell": {
     "cellMetadata": {
      "byteLimit": 2048000,
      "rowLimit": 10000
     },
     "inputWidgets": {},
     "nuid": "2ca2ac56-3c51-4949-bc2a-539293bfaf84",
     "showTitle": false,
     "title": ""
    }
   },
   "source": [
    "## 6.1 Top 20 Sold Products"
   ]
  },
  {
   "cell_type": "code",
   "execution_count": 0,
   "metadata": {
    "application/vnd.databricks.v1+cell": {
     "cellMetadata": {
      "byteLimit": 2048000,
      "rowLimit": 10000
     },
     "inputWidgets": {},
     "nuid": "0d69439d-88a1-44f8-9a03-0da6c86f7a7b",
     "showTitle": false,
     "title": ""
    }
   },
   "outputs": [],
   "source": [
    "# Select the top 20 sold products\n",
    "top_products = product_sales.orderBy(F.col(\"Total_Quantity\").desc()).limit(20)\n",
    "\n",
    "# Convert Spark DataFrame to Pandas DataFrame\n",
    "top_products_pandas = top_products.toPandas()\n",
    "\n",
    "# Plot the bar chart\n",
    "plt.figure(figsize=(16, 10))\n",
    "plt.title(\"Top Sold Products\", fontsize=20)\n",
    "sns.barplot(x=\"Total_Quantity\", y=\"Description\", data=top_products_pandas, palette=\"viridis\")\n",
    "\n",
    "# Add labels and title\n",
    "plt.xlabel('Total Quantity')\n",
    "plt.ylabel('Product Description')\n",
    "\n",
    "# Show the plot\n",
    "plt.tight_layout()\n",
    "plt.show()"
   ]
  },
  {
   "cell_type": "markdown",
   "metadata": {
    "application/vnd.databricks.v1+cell": {
     "cellMetadata": {
      "byteLimit": 2048000,
      "rowLimit": 10000
     },
     "inputWidgets": {},
     "nuid": "5ee1a0ec-1f64-484c-b5fb-8802f93e96ec",
     "showTitle": false,
     "title": ""
    }
   },
   "source": [
    "## 6.2 Most Revenue Generated Products"
   ]
  },
  {
   "cell_type": "code",
   "execution_count": 0,
   "metadata": {
    "application/vnd.databricks.v1+cell": {
     "cellMetadata": {
      "byteLimit": 2048000,
      "rowLimit": 10000
     },
     "inputWidgets": {},
     "nuid": "f59e01e4-6577-412b-b2ec-7c48d72b6b91",
     "showTitle": false,
     "title": ""
    }
   },
   "outputs": [],
   "source": [
    "product_revenue = customerDF.groupBy(\"Description\") \\\n",
    "                            .agg(F.round(F.sum(\"Total_Price\"), 2).alias(\"Total_Revenue\")) \\\n",
    "                            .orderBy(F.col(\"Total_Revenue\").desc())\n",
    "\n",
    "# Show the results\n",
    "product_revenue.show(10)"
   ]
  },
  {
   "cell_type": "code",
   "execution_count": 0,
   "metadata": {
    "application/vnd.databricks.v1+cell": {
     "cellMetadata": {
      "byteLimit": 2048000,
      "rowLimit": 10000
     },
     "inputWidgets": {},
     "nuid": "ece8a318-cf58-407e-9ff1-23303ed8e5f1",
     "showTitle": false,
     "title": ""
    }
   },
   "outputs": [],
   "source": [
    "# Select the top revenue generated products\n",
    "top_revenue_products = product_revenue.orderBy(F.col(\"Total_Revenue\").desc()).limit(15)\n",
    "\n",
    "# Convert Spark DataFrame to Pandas DataFrame\n",
    "top_revenue_products_pandas = top_revenue_products.toPandas()\n",
    "\n",
    "# Plot the bar chart\n",
    "plt.figure(figsize=(16, 10))\n",
    "plt.title(\"Top Revenue Generated Products\", fontsize=20)\n",
    "sns.barplot(x=\"Total_Revenue\", y=\"Description\", data=top_revenue_products_pandas, palette=\"viridis\")\n",
    "\n",
    "# Add labels and title\n",
    "plt.xlabel('Total Revenue')\n",
    "plt.ylabel('Product Description')\n",
    "\n",
    "# Show the plot\n",
    "plt.tight_layout()\n",
    "plt.show()"
   ]
  },
  {
   "cell_type": "markdown",
   "metadata": {
    "application/vnd.databricks.v1+cell": {
     "cellMetadata": {
      "byteLimit": 2048000,
      "rowLimit": 10000
     },
     "inputWidgets": {},
     "nuid": "c16d85e4-c3b0-4d0c-945f-8294e559a9c3",
     "showTitle": false,
     "title": ""
    }
   },
   "source": [
    "# 07 - Customers Stats (Loyalty, Daily Buyer)"
   ]
  },
  {
   "cell_type": "markdown",
   "metadata": {
    "application/vnd.databricks.v1+cell": {
     "cellMetadata": {
      "byteLimit": 2048000,
      "rowLimit": 10000
     },
     "inputWidgets": {},
     "nuid": "16203dcf-5159-474b-b6ee-d3e88f4e0bca",
     "showTitle": false,
     "title": ""
    }
   },
   "source": [
    "- Customer loyalty is the act of choosing one company's products and services consistently over their competitors. When a customer is loyal to one company, they aren't easily swayed by price or availability. They would rather pay more and ensure the same quality service & product they know.\n",
    "\n",
    "- Since we don't have the purchase stats of our customers with the other companies, Let us seggregate them into 3 Categories based on thier purchases as Bronze, Silver and Gold."
   ]
  },
  {
   "cell_type": "code",
   "execution_count": 0,
   "metadata": {
    "application/vnd.databricks.v1+cell": {
     "cellMetadata": {
      "byteLimit": 2048000,
      "rowLimit": 10000
     },
     "inputWidgets": {},
     "nuid": "d95c3a1e-98c7-4ae0-9f55-52f4f4ad994e",
     "showTitle": false,
     "title": ""
    }
   },
   "outputs": [],
   "source": [
    "loyal_customers = customerDF.groupBy(\"CustomerID\") \\\n",
    "                            .agg(F.sum(\"Quantity\").alias(\"Total_Quantity\")) \\\n",
    "                            .orderBy(F.col(\"Total_Quantity\").desc())\n",
    "\n",
    "# Show the results\n",
    "loyal_customers.show(10)"
   ]
  },
  {
   "cell_type": "markdown",
   "metadata": {
    "application/vnd.databricks.v1+cell": {
     "cellMetadata": {
      "byteLimit": 2048000,
      "rowLimit": 10000
     },
     "inputWidgets": {},
     "nuid": "b5d815f2-0679-4751-abdc-b4b7b5969fad",
     "showTitle": false,
     "title": ""
    }
   },
   "source": [
    "## 7.1 Customers Who are willing to purchase most from the store"
   ]
  },
  {
   "cell_type": "code",
   "execution_count": 0,
   "metadata": {
    "application/vnd.databricks.v1+cell": {
     "cellMetadata": {
      "byteLimit": 2048000,
      "rowLimit": 10000
     },
     "inputWidgets": {},
     "nuid": "22b6f3d1-de54-4cb0-a486-048d5c5998b9",
     "showTitle": false,
     "title": ""
    }
   },
   "outputs": [],
   "source": [
    "# Select the top loyal customers\n",
    "top_loyal_customers = loyal_customers.orderBy(F.col(\"Total_Quantity\").desc()).limit(30)\n",
    "\n",
    "# Convert Spark DataFrame to Pandas DataFrame\n",
    "top_loyal_customers_pandas = top_loyal_customers.toPandas()\n",
    "\n",
    "# Plot the bar chart\n",
    "plt.figure(figsize=(16, 5))\n",
    "plt.xticks(rotation=90)\n",
    "plt.title(\"Highest Quantity of Products Purchased by Customers\", fontsize=20)\n",
    "sns.barplot(x=top_loyal_customers_pandas[\"CustomerID\"], y=top_loyal_customers_pandas[\"Total_Quantity\"], order=top_loyal_customers_pandas[\"CustomerID\"])\n",
    "\n",
    "# Add labels and title\n",
    "plt.xlabel('Customer ID')\n",
    "plt.ylabel('Total Quantity Purchased')\n",
    "\n",
    "# Show the plot\n",
    "plt.tight_layout()\n",
    "plt.show()"
   ]
  },
  {
   "cell_type": "markdown",
   "metadata": {
    "application/vnd.databricks.v1+cell": {
     "cellMetadata": {
      "byteLimit": 2048000,
      "rowLimit": 10000
     },
     "inputWidgets": {},
     "nuid": "cc110187-0027-490e-80f9-952efce6f32a",
     "showTitle": false,
     "title": ""
    }
   },
   "source": [
    "## 08 - Customers Who Buy Often, But Spend Very Little"
   ]
  },
  {
   "cell_type": "markdown",
   "metadata": {
    "application/vnd.databricks.v1+cell": {
     "cellMetadata": {
      "byteLimit": 2048000,
      "rowLimit": 10000
     },
     "inputWidgets": {},
     "nuid": "1ccdbd04-08af-4215-b41e-637ff0590ef8",
     "showTitle": false,
     "title": ""
    }
   },
   "source": [
    "## 8.1 Purchases Generated by Customers"
   ]
  },
  {
   "cell_type": "code",
   "execution_count": 0,
   "metadata": {
    "application/vnd.databricks.v1+cell": {
     "cellMetadata": {
      "byteLimit": 2048000,
      "rowLimit": 10000
     },
     "inputWidgets": {},
     "nuid": "4b6a926a-10e8-46e6-a4ee-49ea96658b0f",
     "showTitle": false,
     "title": ""
    }
   },
   "outputs": [],
   "source": [
    "daily_customers = customerDF.groupBy(\"CustomerID\") \\\n",
    "                            .agg(\n",
    "                                F.countDistinct(\"InvoiceNo\").alias(\"Unique_Invoices\"),\n",
    "                                F.sum(\"Total_Price\").alias(\"Total_Sales\")\n",
    "                            )\n",
    "\n",
    "# Order by 'Unique_Invoices' descending and then by 'Total_Sales' ascending\n",
    "daily_customers = daily_customers.orderBy(F.col(\"Unique_Invoices\").desc(), F.col(\"Total_Sales\").asc())\n",
    "\n",
    "# Filter for customers with 'Total_Sales' less than 20,000\n",
    "daily_customers = daily_customers.filter(F.col(\"Total_Sales\") < 20000)\n",
    "\n",
    "# Show the top records (e.g., equivalent to .head() in pandas)\n",
    "daily_customers.show(10)"
   ]
  },
  {
   "cell_type": "code",
   "execution_count": 0,
   "metadata": {
    "application/vnd.databricks.v1+cell": {
     "cellMetadata": {
      "byteLimit": 2048000,
      "rowLimit": 10000
     },
     "inputWidgets": {},
     "nuid": "86cbc11c-c168-4c39-83c8-eb9252825472",
     "showTitle": false,
     "title": ""
    }
   },
   "outputs": [],
   "source": [
    "# Select the customers who buy often but spend little\n",
    "top_daily_customers = daily_customers.orderBy(F.col(\"Unique_Invoices\").desc(), F.col(\"Total_Sales\").asc()).limit(15)\n",
    "\n",
    "# Convert Spark DataFrame to Pandas DataFrame\n",
    "top_daily_customers_pandas = top_daily_customers.toPandas()\n",
    "\n",
    "# Plot the bar chart\n",
    "plt.figure(figsize=(16, 5))\n",
    "plt.title(\"Customers Who Buy Often but Spend Little\", fontsize=20)\n",
    "sns.barplot(x=top_daily_customers_pandas[\"CustomerID\"], y=top_daily_customers_pandas[\"Total_Sales\"])\n",
    "\n",
    "# Add labels and title\n",
    "plt.xlabel('Customer ID')\n",
    "plt.ylabel('Total Sales')\n",
    "\n",
    "# Show the plot\n",
    "plt.xticks(rotation=90)\n",
    "plt.tight_layout()\n",
    "plt.show()"
   ]
  },
  {
   "cell_type": "markdown",
   "metadata": {
    "application/vnd.databricks.v1+cell": {
     "cellMetadata": {
      "byteLimit": 2048000,
      "rowLimit": 10000
     },
     "inputWidgets": {},
     "nuid": "0338945c-7816-4a8c-a9af-45ce20e208fd",
     "showTitle": false,
     "title": ""
    }
   },
   "source": [
    "# 09 - Customers We have Lost"
   ]
  },
  {
   "cell_type": "code",
   "execution_count": 0,
   "metadata": {
    "application/vnd.databricks.v1+cell": {
     "cellMetadata": {
      "byteLimit": 2048000,
      "rowLimit": 10000
     },
     "inputWidgets": {},
     "nuid": "2a2c3b77-1c6f-4ec4-9bd9-94b3e0da33c3",
     "showTitle": false,
     "title": ""
    }
   },
   "outputs": [],
   "source": [
    "lost_customers = customerDF.filter(customerDF['Year'] == 2011) \\\n",
    "                           .groupBy(\"Month\") \\\n",
    "                           .agg(F.countDistinct(\"CustomerID\").alias(\"Unique_Customers\"))\n",
    "lost_customers.show(10)"
   ]
  },
  {
   "cell_type": "code",
   "execution_count": 0,
   "metadata": {
    "application/vnd.databricks.v1+cell": {
     "cellMetadata": {
      "byteLimit": 2048000,
      "rowLimit": 10000
     },
     "inputWidgets": {},
     "nuid": "443d6092-ee0e-403e-9c9e-f17f6299cf8b",
     "showTitle": false,
     "title": ""
    }
   },
   "outputs": [],
   "source": [
    "# Define the order of months\n",
    "months = ['January', 'February', 'March', 'April', 'May', 'June', 'July', 'August', 'September', 'October', 'November', 'December']\n",
    "\n",
    "# Convert Spark DataFrame to Pandas DataFrame\n",
    "lost_customers_pandas = lost_customers.toPandas()\n",
    "\n",
    "# Plot the bar chart\n",
    "plt.figure(figsize=(16, 5))\n",
    "plt.title('Customers We Have Lost', fontsize=20)\n",
    "sns.barplot(x='Month', y='Unique_Customers', data=lost_customers_pandas, order=months)\n",
    "\n",
    "# Add labels and title\n",
    "plt.xlabel('Month')\n",
    "plt.ylabel('Unique Customers')\n",
    "\n",
    "# Show the plot\n",
    "plt.xticks(rotation=45)\n",
    "plt.tight_layout()\n",
    "plt.show()"
   ]
  },
  {
   "cell_type": "markdown",
   "metadata": {
    "application/vnd.databricks.v1+cell": {
     "cellMetadata": {
      "byteLimit": 2048000,
      "rowLimit": 10000
     },
     "inputWidgets": {},
     "nuid": "b3c03105-3bd0-4d36-97b5-c09c0e2db327",
     "showTitle": false,
     "title": ""
    }
   },
   "source": [
    "- We can observe that very number of customers are lost visiting the store. At the end of the year many customers are lost."
   ]
  },
  {
   "cell_type": "markdown",
   "metadata": {
    "application/vnd.databricks.v1+cell": {
     "cellMetadata": {
      "byteLimit": 2048000,
      "rowLimit": 10000
     },
     "inputWidgets": {},
     "nuid": "177456fd-8565-48af-9e7f-c4b529416c57",
     "showTitle": false,
     "title": ""
    }
   },
   "source": [
    "## Part 1 Ends here. Due to Large exceeding file size of Jupyter Notebook. Unable to export in Ipynb or HTML because of exceeding size"
   ]
  },
  {
   "cell_type": "markdown",
   "metadata": {
    "application/vnd.databricks.v1+cell": {
     "cellMetadata": {
      "byteLimit": 2048000,
      "rowLimit": 10000
     },
     "inputWidgets": {},
     "nuid": "005e57e7-23a6-4b80-bfb1-7ee7708247c4",
     "showTitle": false,
     "title": ""
    }
   },
   "source": [
    "## Part 2 Continuation is all about Data Modelling, Machine Learning Algorithm and Visualization\n",
    "\n",
    "- Please find the attached AIT-614-Team3- Project-PySpark-Part2"
   ]
  }
 ],
 "metadata": {
  "application/vnd.databricks.v1+notebook": {
   "dashboards": [],
   "language": "python",
   "notebookMetadata": {
    "pythonIndentUnit": 4
   },
   "notebookName": "AIT614-Team3-Project-PySpark-Part1",
   "widgets": {}
  }
 },
 "nbformat": 4,
 "nbformat_minor": 0
}
